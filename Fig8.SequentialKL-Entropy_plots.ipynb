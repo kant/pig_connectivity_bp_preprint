{
 "cells": [
  {
   "cell_type": "markdown",
   "metadata": {
    "collapsed": true
   },
   "source": [
    "This Notebook creates the PNG surface figures for the sequential KL blueprint"
   ]
  },
  {
   "cell_type": "code",
   "execution_count": null,
   "metadata": {},
   "outputs": [],
   "source": [
    "import numpy as np\n",
    "import nibabel as nib\n",
    "import scipy.io as sio\n",
    "from scipy import stats\n",
    "import pandas as pd\n",
    "import h5py\n",
    "import nilearn\n",
    "import plotly\n",
    "from nilearn import plotting\n",
    "import seaborn as sn\n",
    "from math import pi\n",
    "import matplotlib as mpl\n",
    "import matplotlib.pyplot as plt\n",
    "from mpl_toolkits.mplot3d import Axes3D\n",
    "from IPython.display import display, HTML\n",
    "import mayavi\n",
    "from mayavi import mlab \n",
    "%matplotlib inline\n"
   ]
  },
  {
   "cell_type": "code",
   "execution_count": null,
   "metadata": {},
   "outputs": [],
   "source": [
    "###still getting our data. Matlab to python so we transpose the matrix\n",
    "pig=h5py.File('./blueprints//L_pig27.mat','r')\n",
    "variables=pig.items()\n",
    "for var in variables:\n",
    "    pig_name=var[0]\n",
    "    pig_data=var[1]\n",
    "    print(pig_name)\n",
    "    print\n",
    "    pig_data=np.array(pig_data).transpose()\n",
    "    pig_data=pig_data\n",
    "hum=h5py.File('./blueprints/L_hum27.mat','r')\n",
    "variables=hum.items()\n",
    "for var in variables:\n",
    "    hum_name=var[0]\n",
    "    print(hum_name)\n",
    "    hum_data=var[1]\n",
    "    hum_data=np.array(hum_data).transpose()\n",
    "\n",
    "\n",
    "\n",
    "# ##### comment in to run on right hemisphere\n",
    "\n",
    "# pig=h5py.File('./blueprints//R_pig27.mat','r')\n",
    "# variables=pig.items()\n",
    "# for var in variables:\n",
    "#     pig_name=var[0]\n",
    "#     pig_data=var[1]\n",
    "#     print(pig_name)\n",
    "#     print\n",
    "#     pig_data=np.array(pig_data).transpose()\n",
    "#     pig_data=pig_data\n",
    "# hum=h5py.File('./blueprints//R_hum27.mat','r')\n",
    "# variables=hum.items()\n",
    "# for var in variables:\n",
    "#     hum_name=var[0]\n",
    "#     print(hum_name)\n",
    "#     hum_data=var[1]\n",
    "#     hum_data=np.array(hum_data).transpose()"
   ]
  },
  {
   "cell_type": "code",
   "execution_count": null,
   "metadata": {},
   "outputs": [],
   "source": [
    "#### remove extra tracts from human BP\n",
    "with open('./blueprints//structureList.txt','r') as structs:\n",
    "    structs=structs.read()\n",
    "    structs=structs.split('\\n')\n",
    "    ALL_dict={}\n",
    "for i in range(len(structs)-1):\n",
    "        ALL_dict[structs[i]]=hum_data[:,i]"
   ]
  },
  {
   "cell_type": "code",
   "execution_count": null,
   "metadata": {},
   "outputs": [],
   "source": [
    "def remove_tracts(BP,quitar):\n",
    "    BP_new=dict(BP)\n",
    "    orig=BP_new.keys()\n",
    "    for i in range(len(quitar)):\n",
    "        val=quitar[i]\n",
    "        if val in orig:\n",
    "            del BP_new[val]\n",
    "    return BP_new"
   ]
  },
  {
   "cell_type": "code",
   "execution_count": null,
   "metadata": {},
   "outputs": [],
   "source": [
    "## make pig and human BP's dictionaries\n",
    "with open('./blueprints//structureList.txt','r') as structs:\n",
    "    structs=structs.read()\n",
    "    structs=structs.split('\\n')\n",
    "pig_27={}\n",
    "hum_27={}\n",
    "for i in range(len(structs)-1):\n",
    "    pig_27[structs[i]]=pig_data[:,i]\n",
    "    hum_27[structs[i]]=hum_data[:,i]\n",
    "    "
   ]
  },
  {
   "cell_type": "code",
   "execution_count": null,
   "metadata": {},
   "outputs": [],
   "source": [
    "##### pyhton implementation of mars and jabdi 2018 connectivity blueprint paper\n",
    "def entropy(A):\n",
    "    if type(A) == dict:\n",
    "        A=list(A.values())\n",
    "        A=np.array(A).transpose()\n",
    "    else:\n",
    "            pass\n",
    "    p=A.shape\n",
    "    p=p[0]\n",
    "\n",
    "    ## function takes two numpy arrays that are the blueprints not normalized\n",
    "    def normalize(BP,p):\n",
    "        if len(BP.shape) ==1:\n",
    "            BP=BP.reshape(1,p)\n",
    "        \n",
    "        BP[(np.isnan(BP))]=0\n",
    "        row_sums=BP.sum(axis=1)\n",
    "        BP=BP/row_sums[:,np.newaxis]\n",
    "        return BP\n",
    "    \n",
    "    A=normalize(A,p)\n",
    "    Amask= A!=0\n",
    "    A_invmask=Amask!=1\n",
    " ##### pyhton implementation of Saad Jaabdi's matlab code for entropy calculation of vector\n",
    "#     S= -sum(A.*log2(A+~A),2);\n",
    "    S=-1*(np.multiply(A,(np.log2((A+A_invmask)))).sum(axis=1))\n",
    "    return S\n",
    "    "
   ]
  },
  {
   "cell_type": "code",
   "execution_count": null,
   "metadata": {},
   "outputs": [],
   "source": [
    "##### define KL calculation\n",
    "### Calculate the KL divergence as done in the Mars blueprint paper\n",
    "def calc_kl(A,B):\n",
    "    if type(A) == dict:\n",
    "        A=list(A.values())\n",
    "        A=np.array(A).transpose()\n",
    "    else:\n",
    "            pass\n",
    "    if type(B) == dict:\n",
    "        B=list(B.values())\n",
    "        B=np.array(B).transpose()\n",
    "    else:\n",
    "        pass\n",
    "    \n",
    "    p=A.shape\n",
    "    p=p[0]\n",
    "\n",
    "    ## function takes two numpy arrays that are the blueprints not normalized\n",
    "    def normalize(BP,p):\n",
    "        BP[(np.isnan(BP))]=0\n",
    "        row_sums=BP.sum(axis=1)\n",
    "        BP=BP/row_sums[:,np.newaxis]\n",
    "        return BP\n",
    "    \n",
    "    A=normalize(A,p)\n",
    "    B=normalize(B,p)\n",
    "    Amask= A!=0\n",
    "    A_invmask=Amask!=1\n",
    "    Bmask= B !=0\n",
    "    B_invmask=Bmask!=1\n",
    " \n",
    "    ##### pyhton implementation of Saad Jaabdi's matlab code fo KL divergence\n",
    "    KL=np.dot(np.multiply(A,(np.log2((A+A_invmask)))),Bmask.transpose()) \\\n",
    "    - np.dot(A,(Bmask*np.log2(B+B_invmask)).transpose()) \\\n",
    "    + np.dot(Amask,(B*np.log2(B+B_invmask)).transpose())\\\n",
    "    - np.dot(Amask*np.log2(A+A_invmask),B.transpose())\n",
    "    return KL\n",
    "    "
   ]
  },
  {
   "cell_type": "code",
   "execution_count": null,
   "metadata": {},
   "outputs": [],
   "source": [
    "#### function defining the plotting of the K vectors over the surfaces\n",
    "#### function defining the plotting of the K vectors over the surfaces\n",
    "#### function defining the plotting of the K vectors over the surfaces\n",
    "def oh_mayavi(surf,stat,cmap,vmi,vma,*args):\n",
    "    ##### parse the gifti \n",
    "    anat=nib.load(surf)\n",
    "    coords=anat.darrays[0].data\n",
    "    x=coords[:,0]\n",
    "    y=coords[:,1]\n",
    "    z=coords[:,2]\n",
    "    triangles=anat.darrays[1].data\n",
    "    ##### if subcortical mask provided use it\n",
    "    if len(args) >0:\n",
    "        print('masking out subcortex')\n",
    "        sub_cort=nilearn.surface.load_surf_data(args[0])\n",
    "        stat[sub_cort]=float('NaN')\n",
    "    else:\n",
    "        pass\n",
    "    \n",
    "    \n",
    "    ### start mayavi \n",
    "    mlab.init_notebook('png',1500,1500)\n",
    "    maya=mlab.triangular_mesh(x,y,z,triangles,scalars=stat,colormap=cmap,vmin=vmi,vmax=vma)\n",
    "    mlab.view(azimuth=0, elevation=-90)\n",
    "    f = mlab.gcf()\n",
    "    cam = f.scene.camera\n",
    "    cam.zoom(1.1)\n",
    "#     mlab.colorbar()\n",
    "    mlab.draw()\n",
    "    \n",
    "    img1=mlab.screenshot(figure=maya,mode='rgba',antialiased=True)\n",
    "    mlab.view(azimuth=0, elevation=90)\n",
    "    mlab.figure(bgcolor=(1, 1, 1))\n",
    "    ### clear figure\n",
    "    mayavi.mlab.clf()\n",
    "    f = mlab.gcf()\n",
    "    cam = f.scene.camera\n",
    "    cam.zoom(1.1)\n",
    "    mlab.draw()\n",
    "    img2=mlab.screenshot(figure=maya,mode='rgba',antialiased=True)\n",
    "    ### clear figure\n",
    "    mayavi.mlab.clf()\n",
    "    return img1,img2"
   ]
  },
  {
   "cell_type": "code",
   "execution_count": null,
   "metadata": {},
   "outputs": [],
   "source": [
    "##### pig = min on axis 1\n",
    "#### hum = min on axis = 0 "
   ]
  },
  {
   "cell_type": "code",
   "execution_count": null,
   "metadata": {},
   "outputs": [],
   "source": [
    "#### calculate KL and get min for only projection tracts\n",
    "hum_proj=remove_tracts(hum_27,[ 'cbd_l', 'cbd_r', 'cbp_l', 'cbp_r', 'cbt_l', 'cbt_r', 'fma', 'fmi', 'fx_l', 'fx_r', 'ifo_l', 'ifo_r', 'ilf_l', 'ilf_r', 'mcp', 'unc_l', 'unc_r'])\n",
    "pig_proj=remove_tracts(pig_27,[ 'cbd_l', 'cbd_r', 'cbp_l', 'cbp_r', 'cbt_l', 'cbt_r', 'fma', 'fmi', 'fx_l', 'fx_r', 'ifo_l', 'ifo_r', 'ilf_l', 'ilf_r', 'mcp', 'unc_l', 'unc_r'])\n",
    "KL_proj=calc_kl(pig_proj,hum_proj)\n",
    "PS_proj=entropy(pig_proj)\n",
    "HS_proj=entropy(hum_proj)\n",
    "p_proj=KL_proj.min(axis=1)\n",
    "h_proj=KL_proj.min(axis=0)"
   ]
  },
  {
   "cell_type": "code",
   "execution_count": null,
   "metadata": {},
   "outputs": [],
   "source": [
    "plt.subplot(1,2,1)\n",
    "sn.distplot(p_proj)\n",
    "sn.distplot(h_proj)\n",
    "plt.subplot(1,2,2)\n",
    "sn.distplot(PS_proj)\n",
    "sn.distplot(HS_proj)"
   ]
  },
  {
   "cell_type": "code",
   "execution_count": null,
   "metadata": {},
   "outputs": [],
   "source": [
    "hum_comm=remove_tracts(hum_27,[ 'cbd_l', 'cbd_r', 'cbp_l', 'cbp_r', 'cbt_l', 'cbt_r', 'fx_l', 'fx_r', 'ifo_l', 'ifo_r', 'ilf_l', 'ilf_r', 'unc_l', 'unc_r'])\n",
    "pig_comm=remove_tracts(pig_27,[ 'cbd_l', 'cbd_r', 'cbp_l', 'cbp_r', 'cbt_l', 'cbt_r', 'fx_l', 'fx_r', 'ifo_l', 'ifo_r', 'ilf_l', 'ilf_r',  'unc_l', 'unc_r'])\n",
    "KL_comm=calc_kl(pig_comm,hum_comm)\n",
    "PS_comm=entropy(pig_comm)\n",
    "HS_comm=entropy(hum_comm)\n",
    "p_comm=KL_comm.min(axis=1)\n",
    "h_comm=KL_comm.min(axis=0)"
   ]
  },
  {
   "cell_type": "code",
   "execution_count": null,
   "metadata": {},
   "outputs": [],
   "source": [
    "plt.subplot(1,2,1)\n",
    "sn.distplot(p_comm)\n",
    "sn.distplot(h_comm)\n",
    "plt.subplot(1,2,2)\n",
    "sn.distplot(PS_comm)\n",
    "sn.distplot(HS_comm)"
   ]
  },
  {
   "cell_type": "code",
   "execution_count": null,
   "metadata": {},
   "outputs": [],
   "source": []
  },
  {
   "cell_type": "code",
   "execution_count": null,
   "metadata": {},
   "outputs": [],
   "source": [
    "hum_assoc=remove_tracts(hum_27,[ 'cbd_l', 'cbd_r', 'cbp_l', 'cbp_r', 'cbt_l', 'cbt_r', 'fx_l', 'fx_r'])\n",
    "pig_assoc=remove_tracts(pig_27,[ 'cbd_l', 'cbd_r', 'cbp_l', 'cbp_r', 'cbt_l', 'cbt_r', 'fx_l', 'fx_r'])\n",
    "KL_assoc=calc_kl(pig_assoc,hum_assoc)\n",
    "PS_assoc=entropy(pig_assoc)\n",
    "HS_assoc=entropy(hum_assoc)\n",
    "p_assoc=KL_assoc.min(axis=1)\n",
    "h_assoc=KL_assoc.min(axis=0)"
   ]
  },
  {
   "cell_type": "code",
   "execution_count": null,
   "metadata": {},
   "outputs": [],
   "source": [
    "plt.subplot(1,2,1)\n",
    "sn.distplot(p_assoc)\n",
    "sn.distplot(h_assoc)\n",
    "plt.subplot(1,2,2)\n",
    "sn.distplot(PS_assoc)\n",
    "sn.distplot(HS_assoc)"
   ]
  },
  {
   "cell_type": "code",
   "execution_count": null,
   "metadata": {},
   "outputs": [],
   "source": [
    "#### calc KL including all \n",
    "PS=entropy(pig_27)\n",
    "HS=entropy(hum_27)\n",
    "KL=calc_kl(pig_27,hum_27)\n",
    "h_all=KL.min(axis=0)\n",
    "p_all=KL.min(axis=1)\n",
    "# hmax=KL.min(axis=0).max()\n",
    "# pmax=KL.min(axis=1).max()"
   ]
  },
  {
   "cell_type": "code",
   "execution_count": null,
   "metadata": {},
   "outputs": [],
   "source": [
    "plt.subplot(1,2,1)\n",
    "sn.distplot(p_all)\n",
    "sn.distplot(h_all)\n",
    "plt.subplot(1,2,2)\n",
    "sn.distplot(PS)\n",
    "sn.distplot(HS)"
   ]
  },
  {
   "cell_type": "code",
   "execution_count": null,
   "metadata": {},
   "outputs": [],
   "source": [
    "hum_assoc.keys()"
   ]
  },
  {
   "cell_type": "code",
   "execution_count": null,
   "metadata": {},
   "outputs": [],
   "source": [
    "hmax=np.nanmax(HS)\n",
    "pmax=np.nanmax(PS)"
   ]
  },
  {
   "cell_type": "code",
   "execution_count": null,
   "metadata": {},
   "outputs": [],
   "source": []
  },
  {
   "cell_type": "code",
   "execution_count": null,
   "metadata": {},
   "outputs": [],
   "source": [
    "# ### plot the lateral and axial views of the surfaces in mayavi \n",
    "# #### plotting human\n",
    "\n",
    "##### note that it is best to run each set of tracts one by one commenting in and out for right now. \n",
    "\n",
    "h_proj1,h_proj2=oh_mayavi('./surfaces/rmars-comparing-connectivity-blueprints-surfaces/L.rhum.inflated.surf.gii',HS_proj,'terrain',0,hmax,'./surfaces/labels/L.hum.subcort.label')\n",
    "h_comm1,h_comm2=oh_mayavi('./surfaces/rmars-comparing-connectivity-blueprints-surfaces/L.rhum.inflated.surf.gii',HS_comm,'terrain',0,hmax,'./surfaces/labels/L.hum.subcort.label')\n",
    "h_assoc1,h_assoc2=oh_mayavi('./surfaces/rmars-comparing-connectivity-blueprints-surfaces/L.rhum.inflated.surf.gii',HS_assoc,'terrain',0,hmax,'./surfaces/labels/L.hum.subcort.label')\n",
    "h_all1,h_all2=oh_mayavi('./surfaces/rmars-comparing-connectivity-blueprints-surfaces/L.rhum.inflated.surf.gii',HS,'terrain',0,hmax,'./surfaces/labels/L.hum.subcort.label')\n",
    "\n",
    "# ###### plotting pig\n",
    "p_proj1,p_proj2=oh_mayavi('./surfaces/pig_surfaces/lh.graymid10k.surf.gii',PS_proj,'terrain',0,hmax,'./surfaces/labels/L.pig.subcort.label')\n",
    "p_comm1,p_comm2=oh_mayavi('./surfaces/pig_surfaces/lh.graymid10k.surf.gii',PS_comm,'terrain',0,hmax,'./surfaces/labels/L.pig.subcort.label')\n",
    "p_assoc1,p_assoc2=oh_mayavi('./surfaces/pig_surfaces/lh.graymid10k.surf.gii',PS_assoc,'terrain',0,hmax,'./surfaces/labels/L.pig.subcort.label')\n",
    "p_all1,p_all2=oh_mayavi('./surfaces/pig_surfaces/lh.graymid10k.surf.gii',PS,'terrain',0,hmax,'./surfaces/labels/L.pig.subcort.label')\n",
    "\n",
    "# ## commnet in to run on right \n",
    "\n",
    "##### plot the lateral and axial views of the surfaces in mayavi \n",
    "##### plotting human\n",
    "# h_proj1,h_proj2=oh_mayavi('./surfaces/rmars-comparing-connectivity-blueprints-surfaces/R.rhum.inflated.surf.gii',h_proj,'terrain',0,hmax,'/surfaces/labels/R.hum.subcort.label')\n",
    "# h_comm1,h_comm2=oh_mayavi('./surfaces/rmars-comparing-connectivity-blueprints-surfaces/R.rhum.inflated.surf.gii',h_comm,'terrain',0,hmax,'/surfaces/labels/R.hum.subcort.label')\n",
    "# h_assoc1,h_assoc2=oh_mayavi('./surfaces/rmars-comparing-connectivity-blueprints-surfaces/R.rhum.inflated.surf.gii',h_assoc,'terrain',0,hmax,'/surfaces/labels/R.hum.subcort.label')\n",
    "# # h_all1,h_all2=oh_mayavi('./surfaces/rmars-comparing-connectivity-blueprints-surfaces/R.rhum.inflated.surf.gii',h_all,'terrain',0,hmax,'/surfaces/labels/R.hum.subcort.label')\n",
    "# ###### plotting pig\n",
    "# p_proj1,p_proj2=oh_mayavi('./surfaces/pig_surfaces/rh.graymid10k.surf.gii',p_proj,'terrain',0,hmax,'./surfaces/labels/R.pig.subcort.label')\n",
    "# p_comm1,p_comm2=oh_mayavi('./surfaces/pig_surfaces/rh.graymid10k.surf.gii',p_comm,'terrain',0,hmax,'./surfaces/labels/R.pig.subcort.label')\n",
    "# p_assoc1,p_assoc2=oh_mayavi('./surfaces/pig_surfaces/rh.graymid10k.surf.gii',p_assoc,'terrain',0,hmax,'./surfaces/labels/R.pig.subcort.label')\n",
    "# p_all1,p_all2=oh_mayavi('./surfaces/pig_surfaces/rh.graymid10k.surf.gii',p_all,'terrain',0,hmax,'./surfaces/labels/R.pig.subcort.label')"
   ]
  },
  {
   "cell_type": "code",
   "execution_count": null,
   "metadata": {},
   "outputs": [],
   "source": []
  },
  {
   "cell_type": "code",
   "execution_count": null,
   "metadata": {},
   "outputs": [],
   "source": []
  },
  {
   "cell_type": "code",
   "execution_count": null,
   "metadata": {},
   "outputs": [],
   "source": [
    "#### save KL images to pngs \n",
    "def save_plots(a,b,name):\n",
    "    plt.subplot(1,2,1)\n",
    "    plt.imshow(b)\n",
    "    plt.axis('off')\n",
    "    plt.subplot(1,2,2)\n",
    "    plt.imshow(a)\n",
    "    plt.axis('off')\n",
    "    plt.subplots_adjust(hspace = 0.5)\n",
    "    plt.savefig(f'./L_entropy_pngs/{name}.png',bbox_inches='tight',dpi=800,facecolor='k')\n",
    "    plt.clf()\n",
    "\n",
    "\n",
    "# #### comment in for right hemisphere \n",
    "# def save_plots(a,b,name):\n",
    "#     plt.subplot(2,1,1)\n",
    "#     plt.imshow(a)\n",
    "#     plt.axis('off')\n",
    "#     plt.subplot(2,1,2)\n",
    "#     plt.imshow(b)\n",
    "#     plt.axis('off')\n",
    "#     plt.subplots_adjust(hspace = -0.2)\n",
    "    \n",
    "#     plt.savefig(f'./L_KL-pngs/{name}.png',bbox_inches='tight',dpi=800)\n",
    "#     plt.clf()\n",
    "\n",
    "# save_plots(p_all1,p_all2,'R_passoc')"
   ]
  },
  {
   "cell_type": "code",
   "execution_count": null,
   "metadata": {},
   "outputs": [],
   "source": [
    "\n",
    "##### run one by one for now \n",
    "\n",
    "save_plots(p_proj2,p_proj1,'L_p_proj')\n",
    "save_plots(p_comm2,p_comm1,'L_pcomm')\n",
    "save_plots(p_assoc2,p_assoc1,'L_passoc')\n",
    "save_plots(p_all2,p_all1,'L_pall')\n",
    "\n",
    "save_plots(h_proj2,h_proj1,'L_h_proj')\n",
    "save_plots(h_comm2,h_comm1,'L_hcomm')\n",
    "save_plots(h_assoc2,h_assoc1,'L_hassoc')\n",
    "save_plots(h_all2,h_all1,'L_hall')\n",
    "\n",
    "\n",
    "###### comment in for right hemisphere (run one by one)\n",
    "# save_plots(p_proj2,p_proj1,'R_p_proj')\n",
    "# save_plots(p_comm2,p_comm1,'R_pcomm')\n",
    "# save_plots(p_assoc2,p_assoc1,'R_passoc')\n",
    "# save_plots(p_all2,p_all1,'R_pall')\n",
    "\n",
    "# save_plots(h_proj2,h_proj1,'R_h_proj')\n",
    "# save_plots(h_comm2,h_comm1,'R_hcomm')\n",
    "# save_plots(h_assoc2,h_assoc1,'R_hassoc')\n",
    "# save_plots(h_all2,h_all1,'R_hall')\n",
    "\n",
    "\n"
   ]
  },
  {
   "cell_type": "code",
   "execution_count": null,
   "metadata": {},
   "outputs": [],
   "source": [
    "hmax"
   ]
  },
  {
   "cell_type": "code",
   "execution_count": null,
   "metadata": {},
   "outputs": [],
   "source": [
    "fig, ax = plt.subplots(figsize=(1,20))\n",
    "fig.subplots_adjust(bottom=0.5)\n",
    "\n",
    "cmap = mpl.cm.terrain\n",
    "norm = mpl.colors.Normalize(vmin=0, vmax=hmax)\n",
    "cb1 = mpl.colorbar.ColorbarBase(ax, cmap=cmap,\n",
    "                                norm=norm,\n",
    "                                orientation='vertical')\n",
    "# cb1.outline.set_edgecolor('k')\n",
    "ax.tick_params(axis='y', colors='white')\n",
    "\n",
    "\n",
    "# ax.remove()\n",
    "# cb1.set_label('Human KL Divergence')\n",
    "plt.plot()\n",
    "plt.savefig('././L_entropy_pngs/L_joint_colorbar.png',bbox_inches='tight',facecolor='k',edgecolor='w')"
   ]
  },
  {
   "cell_type": "code",
   "execution_count": null,
   "metadata": {},
   "outputs": [],
   "source": [
    "R_hmax=7.687934938285256"
   ]
  },
  {
   "cell_type": "code",
   "execution_count": null,
   "metadata": {},
   "outputs": [],
   "source": [
    "L_hmax=5.722649518067529"
   ]
  },
  {
   "cell_type": "code",
   "execution_count": null,
   "metadata": {},
   "outputs": [],
   "source": [
    "R_hmax=8.00090351247032"
   ]
  },
  {
   "cell_type": "code",
   "execution_count": null,
   "metadata": {},
   "outputs": [],
   "source": []
  }
 ],
 "metadata": {
  "kernelspec": {
   "display_name": "Python 3",
   "language": "python",
   "name": "python3"
  },
  "language_info": {
   "codemirror_mode": {
    "name": "ipython",
    "version": 3
   },
   "file_extension": ".py",
   "mimetype": "text/x-python",
   "name": "python",
   "nbconvert_exporter": "python",
   "pygments_lexer": "ipython3",
   "version": "3.7.7"
  }
 },
 "nbformat": 4,
 "nbformat_minor": 2
}
