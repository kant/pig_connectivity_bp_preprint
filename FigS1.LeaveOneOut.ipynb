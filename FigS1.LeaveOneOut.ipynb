{
 "cells": [
  {
   "cell_type": "markdown",
   "metadata": {
    "collapsed": true
   },
   "source": [
    "This Notebook creates the PNG surface figures for the sequential KL blueprint"
   ]
  },
  {
   "cell_type": "code",
   "execution_count": 1,
   "metadata": {},
   "outputs": [],
   "source": [
    "import numpy as np\n",
    "import nibabel as nib\n",
    "import scipy.io as sio\n",
    "from scipy import stats\n",
    "import pandas as pd\n",
    "import h5py\n",
    "import nilearn\n",
    "import plotly\n",
    "from nilearn import plotting\n",
    "import seaborn as sn\n",
    "from math import pi\n",
    "import matplotlib as mpl\n",
    "import matplotlib.pyplot as plt\n",
    "from mpl_toolkits.mplot3d import Axes3D\n",
    "from IPython.display import display, HTML\n",
    "import mayavi\n",
    "from mayavi import mlab \n",
    "%matplotlib inline\n"
   ]
  },
  {
   "cell_type": "code",
   "execution_count": 2,
   "metadata": {},
   "outputs": [
    {
     "name": "stdout",
     "output_type": "stream",
     "text": [
      "bp\n",
      "bp\n"
     ]
    }
   ],
   "source": [
    "##still getting our data. Matlab to python so we transpose the matrix\n",
    "pig=h5py.File('./blueprints//L_pig27.mat','r')\n",
    "variables=pig.items()\n",
    "for var in variables:\n",
    "    pig_name=var[0]\n",
    "    pig_data=var[1]\n",
    "    print(pig_name)\n",
    "    print\n",
    "    pig_data=np.array(pig_data).transpose()\n",
    "    pig_data=pig_data\n",
    "hum=h5py.File('./blueprints/L_hum27.mat','r')\n",
    "variables=hum.items()\n",
    "for var in variables:\n",
    "    hum_name=var[0]\n",
    "    print(hum_name)\n",
    "    hum_data=var[1]\n",
    "    hum_data=np.array(hum_data).transpose()\n",
    "\n",
    "\n",
    "\n",
    "# ##### comment in to run on right hemisphere\n",
    "\n",
    "# pig=h5py.File('./blueprints//R_pig27.mat','r')\n",
    "# variables=pig.items()\n",
    "# for var in variables:\n",
    "#     pig_name=var[0]\n",
    "#     pig_data=var[1]\n",
    "#     print(pig_name)\n",
    "#     print\n",
    "#     pig_data=np.array(pig_data).transpose()\n",
    "#     pig_data=pig_data\n",
    "# hum=h5py.File('./blueprints//R_hum27.mat','r')\n",
    "# variables=hum.items()\n",
    "# for var in variables:\n",
    "#     hum_name=var[0]\n",
    "#     print(hum_name)\n",
    "#     hum_data=var[1]\n",
    "#     hum_data=np.array(hum_data).transpose()"
   ]
  },
  {
   "cell_type": "code",
   "execution_count": 3,
   "metadata": {},
   "outputs": [],
   "source": [
    "#### remove extra tracts from human BP\n",
    "with open('./blueprints//structureList.txt','r') as structs:\n",
    "    structs=structs.read()\n",
    "    structs=structs.split('\\n')\n",
    "    ALL_dict={}\n",
    "for i in range(len(structs)-1):\n",
    "        ALL_dict[structs[i]]=hum_data[:,i]"
   ]
  },
  {
   "cell_type": "code",
   "execution_count": 4,
   "metadata": {},
   "outputs": [],
   "source": [
    "def remove_tracts(BP,quitar):\n",
    "    BP_new=dict(BP)\n",
    "    orig=BP_new.keys()\n",
    "    for i in range(len(quitar)):\n",
    "        val=quitar[i]\n",
    "        if val in orig:\n",
    "            del BP_new[val]\n",
    "    return BP_new"
   ]
  },
  {
   "cell_type": "code",
   "execution_count": 5,
   "metadata": {},
   "outputs": [],
   "source": [
    "## make pig and human BP's dictionaries\n",
    "with open('./blueprints//structureList.txt','r') as structs:\n",
    "    structs=structs.read()\n",
    "    structs=structs.split('\\n')\n",
    "pig_27={}\n",
    "hum_27={}\n",
    "for i in range(len(structs)-1):\n",
    "    pig_27[structs[i]]=pig_data[:,i]\n",
    "    hum_27[structs[i]]=hum_data[:,i]\n",
    "    "
   ]
  },
  {
   "cell_type": "code",
   "execution_count": 6,
   "metadata": {},
   "outputs": [],
   "source": [
    "##### define KL calculation\n",
    "### Calculate the KL divergence as done in the Mars blueprint paper\n",
    "def calc_kl(A,B):\n",
    "    if type(A) == dict:\n",
    "        A=list(A.values())\n",
    "        A=np.array(A).transpose()\n",
    "    else:\n",
    "            pass\n",
    "    if type(B) == dict:\n",
    "        B=list(B.values())\n",
    "        B=np.array(B).transpose()\n",
    "    else:\n",
    "        pass\n",
    "    \n",
    "    p=A.shape\n",
    "    p=p[0]\n",
    "\n",
    "    ## function takes two numpy arrays that are the blueprints not normalized\n",
    "    def normalize(BP,p):\n",
    "        BP[(np.isnan(BP))]=0\n",
    "        row_sums=BP.sum(axis=1)\n",
    "        BP=BP/row_sums[:,np.newaxis]\n",
    "        return BP\n",
    "    \n",
    "    A=normalize(A,p)\n",
    "    B=normalize(B,p)\n",
    "    Amask= A!=0\n",
    "    A_invmask=Amask!=1\n",
    "    Bmask= B !=0\n",
    "    B_invmask=Bmask!=1\n",
    " \n",
    "    ##### pyhton implementation of Saad Jaabdi's matlab code fo KL divergence\n",
    "    KL=np.dot(np.multiply(A,(np.log2((A+A_invmask)))),Bmask.transpose()) \\\n",
    "    - np.dot(A,(Bmask*np.log2(B+B_invmask)).transpose()) \\\n",
    "    + np.dot(Amask,(B*np.log2(B+B_invmask)).transpose())\\\n",
    "    - np.dot(Amask*np.log2(A+A_invmask),B.transpose())\n",
    "    return KL\n",
    "    "
   ]
  },
  {
   "cell_type": "code",
   "execution_count": 102,
   "metadata": {},
   "outputs": [],
   "source": [
    "### save KL images to pngs \n",
    "def save_plots(a,b,name):\n",
    "    plt.subplot(1,2,1)\n",
    "    plt.imshow(b)\n",
    "    plt.axis('off')\n",
    "    plt.subplot(1,2,2)\n",
    "    plt.imshow(a)\n",
    "    plt.axis('off')\n",
    "    plt.subplots_adjust(hspace = -0.2)\n",
    "    plt.savefig(f'/Volumes/Macintosh_HD/Users/Austin/Desktop/L_KL_Tings_Idea/{name}.png',bbox_inches='tight',dpi=800,facecolor='w')\n",
    "    plt.clf()\n",
    "\n",
    "\n",
    "\n",
    "#### comment in for right hemisphere \n",
    "# def save_plots(a,b,name):\n",
    "#     plt.subplot(2,2,1)\n",
    "#     plt.imshow(a)\n",
    "#     plt.axis('off')\n",
    "#     plt.subplot(1,2,2)\n",
    "#     plt.imshow(b)\n",
    "#     plt.axis('off')\n",
    "#     plt.subplots_adjust(hspace = -0.2)\n",
    "    \n",
    "#     plt.savefig(f'/Volumes/Macintosh_HD/Users/Austin/Desktop/L_KL_Tings_Idea/{name}.png',bbox_inches='tight',dpi=800)\n",
    "#     plt.clf()\n",
    "\n",
    "# save_plots(p_all1,p_all2,'R_passoc')"
   ]
  },
  {
   "cell_type": "code",
   "execution_count": 114,
   "metadata": {},
   "outputs": [],
   "source": [
    "import matplotlib"
   ]
  },
  {
   "cell_type": "code",
   "execution_count": 117,
   "metadata": {},
   "outputs": [],
   "source": [
    "#### function defining the plotting of the K vectors over the surfaces\n",
    "def oh_mayavi(surf,stat,cmap,vmi,vma,*args):\n",
    "    ##### parse the gifti \n",
    "    anat=nib.load(surf)\n",
    "    coords=anat.darrays[0].data\n",
    "    x=coords[:,0]\n",
    "    y=coords[:,1]\n",
    "    z=coords[:,2]\n",
    "    triangles=anat.darrays[1].data\n",
    "    ##### if subcortical mask provided use it\n",
    "    if len(args) >0:\n",
    "        print('masking out subcortex')\n",
    "        sub_cort=nilearn.surface.load_surf_data(args[0])\n",
    "        stat[sub_cort]=float('NaN')\n",
    "    else:\n",
    "        pass\n",
    "    \n",
    "    \n",
    "    ### start mayavi \n",
    "    mlab.init_notebook('png',1500,1500)\n",
    "    maya=mlab.triangular_mesh(x,y,z,triangles,scalars=stat,colormap=cmap,vmin=vmi,vmax=vma)\n",
    "    \n",
    "    mlab.view(azimuth=0, elevation=-90)\n",
    "    f = mlab.gcf()\n",
    "    cam = f.scene.camera\n",
    "    cam.zoom(1.)\n",
    "#     cb=mlab.colorbar(orientation='vertical', nb_labels=3,label_fmt='%.2f')\n",
    "#     cb.label_text_property.color =(0,0,0)\n",
    "    \n",
    "\n",
    "    mlab.draw()\n",
    "    \n",
    "\n",
    "    img1=mlab.screenshot(figure=maya,mode='rgba',antialiased=True)\n",
    "    mlab.view(azimuth=0, elevation=90)\n",
    "    mlab.figure(bgcolor=(0, 0, 0))\n",
    "    ### clear figure\n",
    "    mayavi.mlab.clf()\n",
    "    \n",
    "    f = mlab.gcf()\n",
    "    cam = f.scene.camera\n",
    "    cam.zoom(1.1)\n",
    "    mlab.draw()\n",
    "    img2=mlab.screenshot(figure=maya,mode='rgba',antialiased=True)\n",
    "    ### clear figure\n",
    "    mayavi.mlab.clf()\n",
    "    return img1,img2"
   ]
  },
  {
   "cell_type": "code",
   "execution_count": 28,
   "metadata": {},
   "outputs": [
    {
     "data": {
      "text/plain": [
       "dict_keys(['atr_l', 'atr_r', 'cbd_l', 'cbd_r', 'cbt_l', 'cbt_r', 'cbp_l', 'cbp_r', 'cst_l', 'cst_r', 'fma', 'fmi', 'fx_l', 'fx_r', 'ifo_l', 'ifo_r', 'ilf_l', 'ilf_r', 'mcp', 'or_l', 'or_r', 'ptr_l', 'ptr_r', 'str_l', 'str_r', 'unc_l', 'unc_r'])"
      ]
     },
     "execution_count": 28,
     "metadata": {},
     "output_type": "execute_result"
    }
   ],
   "source": [
    "##### pig = min on axis 1\n",
    "#### hum = min on axis = 0 \n",
    "hum_27.keys()"
   ]
  },
  {
   "cell_type": "code",
   "execution_count": 29,
   "metadata": {},
   "outputs": [
    {
     "name": "stdout",
     "output_type": "stream",
     "text": [
      "4.116178513059977\n",
      "5.144464803038697\n"
     ]
    }
   ],
   "source": [
    "#### calculate KL and get min for only projection tracts\n",
    "hum_proj=remove_tracts(hum_27,['atr_l','atr_r', 'cst_l', 'cst_r','or_l', 'or_r', 'ptr_l', 'ptr_r', 'str_l', 'str_r'])\n",
    "pig_proj=remove_tracts(pig_27,['atr_l','atr_r', 'cst_l', 'cst_r','or_l', 'or_r', 'ptr_l', 'ptr_r', 'str_l', 'str_r'])\n",
    "KL_proj=calc_kl(pig_proj,hum_proj)\n",
    "p_proj=KL_proj.min(axis=1)\n",
    "h_proj=KL_proj.min(axis=0)\n",
    "print(np.max(p_proj))\n",
    "print(np.max(h_proj))"
   ]
  },
  {
   "cell_type": "code",
   "execution_count": null,
   "metadata": {},
   "outputs": [],
   "source": []
  },
  {
   "cell_type": "code",
   "execution_count": 30,
   "metadata": {},
   "outputs": [
    {
     "name": "stdout",
     "output_type": "stream",
     "text": [
      "4.0584062757503965\n",
      "5.507333263883929\n"
     ]
    }
   ],
   "source": [
    "hum_comm=remove_tracts(hum_27,[ 'fma', 'fmi','mcp'])\n",
    "pig_comm=remove_tracts(pig_27,['fma', 'fmi','mcp' ])\n",
    "KL_comm=calc_kl(pig_comm,hum_comm)\n",
    "p_comm=KL_comm.min(axis=1)\n",
    "h_comm=KL_comm.min(axis=0)\n",
    "print(np.max(p_comm))\n",
    "print(np.max(h_comm))"
   ]
  },
  {
   "cell_type": "code",
   "execution_count": null,
   "metadata": {},
   "outputs": [],
   "source": []
  },
  {
   "cell_type": "code",
   "execution_count": 31,
   "metadata": {},
   "outputs": [
    {
     "name": "stdout",
     "output_type": "stream",
     "text": [
      "3.2762650991961664\n",
      "5.969086411180758\n"
     ]
    }
   ],
   "source": [
    "hum_assoc=remove_tracts(hum_27,['ifo_l', 'ifo_r', 'ilf_l', 'ilf_r','unc_l', 'unc_r' ])\n",
    "pig_assoc=remove_tracts(pig_27,['ifo_l', 'ifo_r', 'ilf_l', 'ilf_r','unc_l', 'unc_r' ])\n",
    "KL_assoc=calc_kl(pig_assoc,hum_assoc)\n",
    "p_assoc=KL_assoc.min(axis=1)\n",
    "h_assoc=KL_assoc.min(axis=0)\n",
    "print(np.max(p_assoc))\n",
    "print(np.max(h_assoc))"
   ]
  },
  {
   "cell_type": "code",
   "execution_count": 32,
   "metadata": {},
   "outputs": [
    {
     "name": "stdout",
     "output_type": "stream",
     "text": [
      "2.883716712151551\n",
      "4.101402451534117\n"
     ]
    }
   ],
   "source": [
    "hum_limbic=remove_tracts(hum_27,['cbd_l', 'cbd_r', 'cbt_l', 'cbt_r', 'cbp_l','fx_l', 'fx_r' ])\n",
    "pig_limbic=remove_tracts(pig_27,['cbd_l', 'cbd_r', 'cbt_l', 'cbt_r', 'cbp_l','fx_l', 'fx_r' ])\n",
    "KL_limbic=calc_kl(pig_limbic,hum_limbic)\n",
    "p_limbic=KL_limbic.min(axis=1)\n",
    "h_limbic=KL_limbic.min(axis=0)\n",
    "print(np.max(p_limbic))\n",
    "print(np.max(h_limbic))"
   ]
  },
  {
   "cell_type": "code",
   "execution_count": 33,
   "metadata": {},
   "outputs": [
    {
     "name": "stdout",
     "output_type": "stream",
     "text": [
      "4.139713526511919\n",
      "5.722649518067529\n"
     ]
    }
   ],
   "source": [
    "#### calc KL including all \n",
    "KL=calc_kl(pig_27,hum_27)\n",
    "h_all=KL.min(axis=0)\n",
    "p_all=KL.min(axis=1)\n",
    "# KL=np.divide()\n",
    "hmax=KL.min(axis=0).max()\n",
    "pmax=KL.min(axis=1).max()\n",
    "print(np.max(p_all))\n",
    "print(np.max(h_all))"
   ]
  },
  {
   "cell_type": "code",
   "execution_count": 34,
   "metadata": {},
   "outputs": [],
   "source": [
    "import scipy\n"
   ]
  },
  {
   "cell_type": "code",
   "execution_count": null,
   "metadata": {},
   "outputs": [],
   "source": []
  },
  {
   "cell_type": "code",
   "execution_count": 35,
   "metadata": {},
   "outputs": [],
   "source": [
    "# plt.plot(h_proj, h_all, '.')\n",
    "# plt.plot(h_proj, 0.26151855073978475 + 0.9359792319299068 * h_proj, '-')\n"
   ]
  },
  {
   "cell_type": "code",
   "execution_count": 36,
   "metadata": {},
   "outputs": [],
   "source": [
    "r=0.77\n"
   ]
  },
  {
   "cell_type": "code",
   "execution_count": 37,
   "metadata": {},
   "outputs": [
    {
     "data": {
      "text/plain": [
       "LinregressResult(slope=0.6482235962801781, intercept=0.013025757475370325, rvalue=0.778924786975715, pvalue=0.0, stderr=0.005219150818123753)"
      ]
     },
     "execution_count": 37,
     "metadata": {},
     "output_type": "execute_result"
    }
   ],
   "source": [
    "scipy.stats.linregress(h_all,h_proj)"
   ]
  },
  {
   "cell_type": "code",
   "execution_count": 86,
   "metadata": {},
   "outputs": [],
   "source": [
    "def plot_r_bps(A,B,out):\n",
    "    A = A[~np.isnan(A)]\n",
    "    B = B[~np.isnan(B)]\n",
    "    m,b,r,p,st=scipy.stats.linregress(A,B)\n",
    "    plt.figure(figsize=(4,2))\n",
    "    ax=sn.regplot(A,B,scatter_kws={'s':3,'alpha':0.5,'color':'lightsteelblue'},\n",
    "                  line_kws={'color':'mediumseagreen'})\n",
    "    ax.text(0.05, 0.9,f'r={r:.2f}', transform=ax.transAxes, fontsize=14,\n",
    "            verticalalignment='top')\n",
    "    plt.savefig(f'/Volumes/Macintosh_HD/Users/Austin/Desktop/L_KL_Tings_Idea/{out}.pdf',bbox_inches='tight',dpi=800,facecolor='w')\n",
    "    return m,b,r"
   ]
  },
  {
   "cell_type": "code",
   "execution_count": 87,
   "metadata": {},
   "outputs": [
    {
     "data": {
      "text/plain": [
       "(0.5381382642487769, 0.1027305848841843, 0.737548455234271)"
      ]
     },
     "execution_count": 87,
     "metadata": {},
     "output_type": "execute_result"
    },
    {
     "data": {
      "image/png": "[encoded data removed]",
      "text/plain": [
       "<Figure size 288x144 with 1 Axes>"
      ]
     },
     "metadata": {
      "needs_background": "light"
     },
     "output_type": "display_data"
    },
    {
     "data": {
      "image/png": "[encoded data removed]",
      "text/plain": [
       "<Figure size 288x144 with 1 Axes>"
      ]
     },
     "metadata": {
      "needs_background": "light"
     },
     "output_type": "display_data"
    },
    {
     "data": {
      "image/png": "[encoded data removed]",
      "text/plain": [
       "<Figure size 288x144 with 1 Axes>"
      ]
     },
     "metadata": {
      "needs_background": "light"
     },
     "output_type": "display_data"
    },
    {
     "data": {
      "image/png": "[encoded data removed]",
      "text/plain": [
       "<Figure size 288x144 with 1 Axes>"
      ]
     },
     "metadata": {
      "needs_background": "light"
     },
     "output_type": "display_data"
    },
    {
     "data": {
      "image/png": "[encoded data removed]",
      "text/plain": [
       "<Figure size 288x144 with 1 Axes>"
      ]
     },
     "metadata": {
      "needs_background": "light"
     },
     "output_type": "display_data"
    },
    {
     "data": {
      "image/png": "[encoded data removed]",
      "text/plain": [
       "<Figure size 288x144 with 1 Axes>"
      ]
     },
     "metadata": {
      "needs_background": "light"
     },
     "output_type": "display_data"
    },
    {
     "data": {
      "image/png": "[encoded data removed]",
      "text/plain": [
       "<Figure size 288x144 with 1 Axes>"
      ]
     },
     "metadata": {
      "needs_background": "light"
     },
     "output_type": "display_data"
    },
    {
     "data": {
      "image/png": "[encoded data removed]",
      "text/plain": [
       "<Figure size 288x144 with 1 Axes>"
      ]
     },
     "metadata": {
      "needs_background": "light"
     },
     "output_type": "display_data"
    }
   ],
   "source": [
    "plot_r_bps(h_all,h_proj,'h_proj+h_all')\n",
    "plot_r_bps(h_all,h_comm,'h_comm+h_all')\n",
    "plot_r_bps(h_all,h_assoc,'h_assoc+h_all')\n",
    "plot_r_bps(h_all,h_limbic,'h_limbic+h_all')\n",
    "\n",
    "plot_r_bps(p_all,p_proj,'p_proj+p_all')\n",
    "plot_r_bps(p_all,p_comm,'p_comm+p_all')\n",
    "plot_r_bps(p_all,p_assoc,'p_assoc+p_all')\n",
    "plot_r_bps(p_all,p_limbic,'p_limbic+p_all')"
   ]
  },
  {
   "cell_type": "code",
   "execution_count": 93,
   "metadata": {},
   "outputs": [
    {
     "name": "stdout",
     "output_type": "stream",
     "text": [
      "masking out subcortex\n",
      "Notebook initialized with png backend.\n",
      "masking out subcortex\n",
      "Notebook initialized with png backend.\n",
      "masking out subcortex\n",
      "Notebook initialized with png backend.\n",
      "masking out subcortex\n",
      "Notebook initialized with png backend.\n",
      "masking out subcortex\n",
      "Notebook initialized with png backend.\n",
      "masking out subcortex\n",
      "Notebook initialized with png backend.\n",
      "masking out subcortex\n",
      "Notebook initialized with png backend.\n",
      "masking out subcortex\n",
      "Notebook initialized with png backend.\n",
      "masking out subcortex\n",
      "Notebook initialized with png backend.\n",
      "masking out subcortex\n",
      "Notebook initialized with png backend.\n"
     ]
    }
   ],
   "source": [
    "# ### plot the lateral and axial views of the surfaces in mayavi \n",
    "# #### plotting human\n",
    "\n",
    "##### note that it is best to run each set of tracts one by one commenting in and out for right now. \n",
    "\n",
    "h_proj2,h_proj1=oh_mayavi('./surfaces/rmars-comparing-connectivity-blueprints-surfaces/L.rhum.inflated.surf.gii',h_proj,'terrain',0,hmax,'./surfaces/labels/L.hum.subcort.label')\n",
    "h_comm2,h_comm1=oh_mayavi('./surfaces/rmars-comparing-connectivity-blueprints-surfaces/L.rhum.inflated.surf.gii',h_comm,'terrain',0,hmax,'./surfaces/labels/L.hum.subcort.label')\n",
    "h_assoc2,h_assoc1=oh_mayavi('./surfaces/rmars-comparing-connectivity-blueprints-surfaces/L.rhum.inflated.surf.gii',h_assoc,'terrain',0,hmax,'./surfaces/labels/L.hum.subcort.label')\n",
    "h_limbic2,h_limbic1=oh_mayavi('./surfaces/rmars-comparing-connectivity-blueprints-surfaces/L.rhum.inflated.surf.gii',h_limbic,'terrain',0,hmax,'./surfaces/labels/L.hum.subcort.label')\n",
    "h_all2,h_all1=oh_mayavi('./surfaces/rmars-comparing-connectivity-blueprints-surfaces/L.rhum.inflated.surf.gii',h_all,'terrain',0,hmax,'./surfaces/labels/L.hum.subcort.label')\n",
    "\n",
    "# ###### plotting pig\n",
    "p_proj2,p_proj1=oh_mayavi('./surfaces/pig_surfaces/lh.inflated10k.surf.gii',p_proj,'terrain',0,pmax,'./surfaces/labels/L.pig.subcort.label')\n",
    "p_comm2,p_comm1=oh_mayavi('./surfaces/pig_surfaces/lh.inflated10k.surf.gii',p_comm,'terrain',0,pmax,'./surfaces/labels/L.pig.subcort.label')\n",
    "p_assoc2,p_assoc1=oh_mayavi('./surfaces/pig_surfaces/lh.inflated10k.surf.gii',p_assoc,'terrain',0,pmax,'./surfaces/labels/L.pig.subcort.label')\n",
    "p_limbic2,p_limbic1=oh_mayavi('./surfaces/pig_surfaces/lh.inflated10k.surf.gii',p_limbic,'terrain',0,pmax,'./surfaces/labels/L.pig.subcort.label')\n",
    "p_all2,p_all1=oh_mayavi('./surfaces/pig_surfaces/lh.inflated10k.surf.gii',p_all,'terrain',0,pmax,'./surfaces/labels/L.pig.subcort.label')\n",
    "\n",
    "# ## commnet in to run on right \n",
    "\n",
    "##### plot the lateral and axial views of the surfaces in mayavi \n",
    "##### plotting human\n",
    "# h_proj1,h_proj2=oh_mayavi('./surfaces/rmars-comparing-connectivity-blueprints-surfaces/R.rhum.inflated.surf.gii',h_proj,'terrain',0,hmax,'./surfaces/labels/R.hum.subcort.label')\n",
    "# h_comm1,h_comm2=oh_mayavi('./surfaces/rmars-comparing-connectivity-blueprints-surfaces/R.rhum.inflated.surf.gii',h_comm,'terrain',0,hmax,'./surfaces/labels/R.hum.subcort.label')\n",
    "# h_assoc1,h_assoc2=oh_mayavi('./surfaces/rmars-comparing-connectivity-blueprints-surfaces/R.rhum.inflated.surf.gii',h_assoc,'terrain',0,hmax,'./surfaces/labels/R.hum.subcort.label')\n",
    "# h_all1,h_all2=oh_mayavi('./surfaces/rmars-comparing-connectivity-blueprints-surfaces/R.rhum.inflated.surf.gii',h_all,'terrain',0,hmax,'./surfaces/labels/R.hum.subcort.label')\n",
    "# ###### plotting pig\n",
    "# p_proj1,p_proj2=oh_mayavi('./surfaces/pig_surfaces/rh.inflated10k.surf.gii',p_proj,'terrain',0,hmax,'./surfaces/labels/R.pig.subcort.label')\n",
    "# p_comm1,p_comm2=oh_mayavi('./surfaces/pig_surfaces/rh.inflated10k.surf.gii',p_comm,'terrain',0,hmax,'./surfaces/labels/R.pig.subcort.label')\n",
    "# p_assoc1,p_assoc2=oh_mayavi('./surfaces/pig_surfaces/rh.inflated10k.surf.gii',p_assoc,'terrain',0,hmax,'./surfaces/labels/R.pig.subcort.label')\n",
    "# p_assoc1,p_assoc2=oh_mayavi('./surfaces/pig_surfaces/rh.inflated10k.surf.gii',p_limbic,'terrain',0,hmax,'./surfaces/labels/R.pig.subcort.label')\n",
    "# p_all1,p_all2=oh_mayavi('./surfaces/pig_surfaces/rh.inflated10k.surf.gii',p_all,'terrain',0,hmax,'./surfaces/labels/R.pig.subcort.label')"
   ]
  },
  {
   "cell_type": "code",
   "execution_count": 94,
   "metadata": {},
   "outputs": [
    {
     "name": "stdout",
     "output_type": "stream",
     "text": [
      "projection tract max is 2.099982585545\n",
      "comm tract max is 1.5015615740710362\n",
      "asociaiton tract max is 2.044104795945568\n",
      "limbic tract max is 2.8866237032769813\n"
     ]
    }
   ],
   "source": [
    "print(f'projection tract max is {np.nanmax(difHallHproj)}')\n",
    "print(f'comm tract max is {np.nanmax(difHallHcomm)}')\n",
    "print(f'asociaiton tract max is {np.nanmax(difHallHassoc)}')\n",
    "print(f'limbic tract max is {np.nanmax(difHallHlimbic)}')\n",
    "Hmax_dif=np.nanmax(difHallHlimbic)"
   ]
  },
  {
   "cell_type": "code",
   "execution_count": 95,
   "metadata": {},
   "outputs": [
    {
     "name": "stdout",
     "output_type": "stream",
     "text": [
      "projection tract max is 2.309574260843713\n",
      "comm tract max is 1.4323245401471203\n",
      "asociaiton tract max is 2.0055686294754027\n",
      "limbic tract max is 2.4044552014455594\n"
     ]
    }
   ],
   "source": [
    "print(f'projection tract max is {np.nanmax(difPallPproj)}')\n",
    "print(f'comm tract max is {np.nanmax(difPallPcomm)}')\n",
    "print(f'asociaiton tract max is {np.nanmax(difPallPassoc)}')\n",
    "print(f'limbic tract max is {np.nanmax(difPallPlimbic)}')\n",
    "Pmax_dif=np.nanmax(difPallPlimbic)"
   ]
  },
  {
   "cell_type": "code",
   "execution_count": 121,
   "metadata": {},
   "outputs": [
    {
     "name": "stdout",
     "output_type": "stream",
     "text": [
      "masking out subcortex\n",
      "Notebook initialized with png backend.\n",
      "masking out subcortex\n",
      "Notebook initialized with png backend.\n"
     ]
    },
    {
     "data": {
      "text/plain": [
       "<Figure size 432x288 with 0 Axes>"
      ]
     },
     "metadata": {},
     "output_type": "display_data"
    }
   ],
   "source": [
    "difPallPproj=p_all - p_proj\n",
    "p_dif1,p_dif2=oh_mayavi('./surfaces/pig_surfaces/lh.inflated10k.surf.gii'\\\n",
    "                        ,difPallPproj,'CMRmap',0,Pmax_dif,\\\n",
    "                        './surfaces/labels/L.pig.subcort.label')\n",
    "save_plots(p_dif2,p_dif1,'L_p_diff_proj')\n",
    "\n",
    "difHallHproj=h_all - h_proj\n",
    "h_dif1,h_dif2=oh_mayavi('./surfaces/rmars-comparing-connectivity-blueprints-surfaces/L.rhum.inflated.surf.gii',\\\n",
    "                           difHallHproj,'CMRmap',0,Hmax_dif,'./surfaces/labels/L.hum.subcort.label')\n",
    "save_plots(h_dif2,h_dif1,'L_h_diff_proj')\n",
    "\n"
   ]
  },
  {
   "cell_type": "code",
   "execution_count": 120,
   "metadata": {},
   "outputs": [
    {
     "name": "stdout",
     "output_type": "stream",
     "text": [
      "masking out subcortex\n",
      "Notebook initialized with png backend.\n",
      "masking out subcortex\n",
      "Notebook initialized with png backend.\n"
     ]
    },
    {
     "data": {
      "text/plain": [
       "<Figure size 432x288 with 0 Axes>"
      ]
     },
     "metadata": {},
     "output_type": "display_data"
    }
   ],
   "source": [
    "difPallPcomm=p_all - p_comm\n",
    "p_dif1,p_dif2=oh_mayavi('./surfaces/pig_surfaces/lh.inflated10k.surf.gii'\\\n",
    "                        ,difPallPcomm,'CMRmap',0,Pmax_dif,\\\n",
    "                        './surfaces/labels/L.pig.subcort.label')\n",
    "save_plots(p_dif2,p_dif1,'L_p_diff_comm')\n",
    "\n",
    "difHallHcomm=h_all - h_comm\n",
    "h_dif1,h_dif2=oh_mayavi('./surfaces/rmars-comparing-connectivity-blueprints-surfaces/L.rhum.inflated.surf.gii',\\\n",
    "                           difHallHcomm,'CMRmap',0,Hmax_dif,'./surfaces/labels/L.hum.subcort.label')\n",
    "save_plots(h_dif2,h_dif1,'L_h_diff_comm')\n",
    "\n",
    "\n"
   ]
  },
  {
   "cell_type": "code",
   "execution_count": 122,
   "metadata": {},
   "outputs": [
    {
     "name": "stdout",
     "output_type": "stream",
     "text": [
      "masking out subcortex\n",
      "Notebook initialized with png backend.\n",
      "masking out subcortex\n",
      "Notebook initialized with png backend.\n"
     ]
    },
    {
     "data": {
      "text/plain": [
       "<Figure size 432x288 with 0 Axes>"
      ]
     },
     "metadata": {},
     "output_type": "display_data"
    }
   ],
   "source": [
    "difPallPassoc=p_all - p_assoc\n",
    "p_dif1,p_dif2=oh_mayavi('./surfaces/pig_surfaces/lh.inflated10k.surf.gii'\\\n",
    "                        ,difPallPassoc,'CMRmap',0,Pmax_dif,\\\n",
    "                        './surfaces/labels/L.pig.subcort.label')\n",
    "save_plots(p_dif2,p_dif1,'L_p_diff_assoc')\n",
    "\n",
    "difHallHassoc=h_all - h_assoc\n",
    "h_dif1,h_dif2=oh_mayavi('./surfaces/rmars-comparing-connectivity-blueprints-surfaces/L.rhum.inflated.surf.gii',\\\n",
    "                           difHallHassoc,'CMRmap',0,Hmax_dif,'./surfaces/labels/L.hum.subcort.label')\n",
    "save_plots(h_dif2,h_dif1,'L_h_diff_assoc')\n",
    "\n",
    "\n",
    "\n"
   ]
  },
  {
   "cell_type": "code",
   "execution_count": 123,
   "metadata": {},
   "outputs": [
    {
     "name": "stdout",
     "output_type": "stream",
     "text": [
      "masking out subcortex\n",
      "Notebook initialized with png backend.\n",
      "masking out subcortex\n",
      "Notebook initialized with png backend.\n"
     ]
    },
    {
     "data": {
      "text/plain": [
       "<Figure size 432x288 with 0 Axes>"
      ]
     },
     "metadata": {},
     "output_type": "display_data"
    }
   ],
   "source": [
    "difPallPlimbic=p_all - p_limbic\n",
    "p_dif1,p_dif2=oh_mayavi('./surfaces/pig_surfaces/lh.inflated10k.surf.gii'\\\n",
    "                        ,difPallPlimbic,'CMRmap',0,Pmax_dif,\\\n",
    "                        './surfaces/labels/L.pig.subcort.label')\n",
    "save_plots(p_dif2,p_dif1,'L_p_diff_limbic')\n",
    "\n",
    "difHallHlimbic=h_all - h_limbic\n",
    "h_dif1,h_dif2=oh_mayavi('./surfaces/rmars-comparing-connectivity-blueprints-surfaces/L.rhum.inflated.surf.gii',\\\n",
    "                           difHallHlimbic,'CMRmap',0,Hmax_dif,'./surfaces/labels/L.hum.subcort.label')\n",
    "save_plots(h_dif2,h_dif1,'L_h_diff_limbic')\n",
    "\n",
    "\n",
    "\n"
   ]
  },
  {
   "cell_type": "code",
   "execution_count": 100,
   "metadata": {},
   "outputs": [
    {
     "data": {
      "text/plain": [
       "<Figure size 432x288 with 0 Axes>"
      ]
     },
     "metadata": {},
     "output_type": "display_data"
    }
   ],
   "source": [
    "\n",
    "save_plots(p_proj1,p_proj2,'L_p_proj')\n",
    "save_plots(p_comm1,p_comm2,'L_pcomm')\n",
    "save_plots(p_assoc1,p_assoc2,'L_passoc')\n",
    "save_plots(p_limbic1,p_limbic2,'L_plimbic')\n",
    "save_plots(p_all1,p_all2,'L_pall')\n",
    "\n",
    "save_plots(h_proj1,h_proj2,'L_h_proj')\n",
    "save_plots(h_comm1,h_comm2,'L_hcomm')\n",
    "save_plots(h_assoc1,h_assoc2,'L_hassoc')\n",
    "save_plots(h_limbic1,h_limbic2,'L_hlimbic')\n",
    "save_plots(h_all1,h_all2,'L_hall')\n",
    "\n",
    "\n",
    "###### comment in for right hemisphere (run one by one)\n",
    "# save_plots(p_proj2,p_proj1,'R_p_proj')\n",
    "# save_plots(p_comm2,p_comm1,'R_pcomm')\n",
    "# save_plots(p_assoc2,p_assoc1,'R_passoc')\n",
    "# save_plots(p_limbic1,p_limbic2,'R_plimbic')\n",
    "# save_plots(p_all2,p_all1,'R_pall')\n",
    "\n",
    "# save_plots(h_proj2,h_proj1,'R_h_proj')\n",
    "# save_plots(h_comm2,h_comm1,'R_hcomm')\n",
    "# save_plots(h_assoc2,h_assoc1,'R_hassoc')\n",
    "# save_plots(h_limbic1,h_limbic2,'R_hlimbic')\n",
    "# save_plots(h_all2,h_all1,'R_hall')\n",
    "\n",
    "\n"
   ]
  },
  {
   "cell_type": "code",
   "execution_count": 124,
   "metadata": {},
   "outputs": [
    {
     "data": {
      "text/plain": [
       "4.139713526511919"
      ]
     },
     "execution_count": 124,
     "metadata": {},
     "output_type": "execute_result"
    }
   ],
   "source": [
    "nanmax"
   ]
  },
  {
   "cell_type": "code",
   "execution_count": 126,
   "metadata": {},
   "outputs": [
    {
     "data": {
      "image/png": "[encoded data removed]",
      "text/plain": [
       "<Figure size 720x72 with 1 Axes>"
      ]
     },
     "metadata": {
      "needs_background": "light"
     },
     "output_type": "display_data"
    }
   ],
   "source": [
    "fig, ax = plt.subplots(figsize=(10,1))\n",
    "fig.subplots_adjust(bottom=0.5)\n",
    "\n",
    "cmap = mpl.cm.CMRmap\n",
    "norm = mpl.colors.Normalize(vmin=0, vmax=Pmax_dif)\n",
    "cb1 = mpl.colorbar.ColorbarBase(ax, cmap=cmap,\n",
    "                                norm=norm,\n",
    "                                orientation='horizontal')\n",
    "# cb1.outline.set_edgecolor('k')\n",
    "ax.tick_params(axis='y', colors='white')\n",
    "\n",
    "\n",
    "# ax.remove()\n",
    "# cb1.set_label('Human KL Divergence')\n",
    "plt.plot()\n",
    "plt.savefig('/Volumes/Macintosh_HD/Users/Austin/Desktop/L_KL_Tings_Idea/L_pigDif_colorbar.png',\n",
    "            bbox_inches='tight',facecolor='w',edgecolor='w')"
   ]
  },
  {
   "cell_type": "code",
   "execution_count": null,
   "metadata": {},
   "outputs": [],
   "source": [
    "R_hmax=7.687934938285256"
   ]
  },
  {
   "cell_type": "code",
   "execution_count": null,
   "metadata": {},
   "outputs": [],
   "source": [
    "L_hmax=5.722649518067529"
   ]
  },
  {
   "cell_type": "code",
   "execution_count": null,
   "metadata": {},
   "outputs": [],
   "source": [
    "R_hmax=8.00090351247032"
   ]
  },
  {
   "cell_type": "code",
   "execution_count": null,
   "metadata": {},
   "outputs": [],
   "source": []
  }
 ],
 "metadata": {
  "kernelspec": {
   "display_name": "Python 3",
   "language": "python",
   "name": "python3"
  },
  "language_info": {
   "codemirror_mode": {
    "name": "ipython",
    "version": 3
   },
   "file_extension": ".py",
   "mimetype": "text/x-python",
   "name": "python",
   "nbconvert_exporter": "python",
   "pygments_lexer": "ipython3",
   "version": "3.7.7"
  }
 },
 "nbformat": 4,
 "nbformat_minor": 2
}
